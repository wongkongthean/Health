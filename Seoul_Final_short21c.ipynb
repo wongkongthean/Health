{
  "nbformat": 4,
  "nbformat_minor": 0,
  "metadata": {
    "colab": {
      "provenance": [],
      "authorship_tag": "ABX9TyNtpf4FSEhW0fQTXl7CtulR",
      "include_colab_link": true
    },
    "kernelspec": {
      "name": "python3",
      "display_name": "Python 3"
    },
    "language_info": {
      "name": "python"
    }
  },
  "cells": [
    {
      "cell_type": "markdown",
      "metadata": {
        "id": "view-in-github",
        "colab_type": "text"
      },
      "source": [
        "<a href=\"https://colab.research.google.com/github/wongkongthean/Health/blob/master/Seoul_Final_short21c.ipynb\" target=\"_parent\"><img src=\"https://colab.research.google.com/assets/colab-badge.svg\" alt=\"Open In Colab\"/></a>"
      ]
    },
    {
      "cell_type": "code",
      "execution_count": null,
      "metadata": {
        "id": "yBN3RcoEP0YK"
      },
      "outputs": [],
      "source": [
        "'''\n",
        "Seoul POI 03 2023 - Google Sheets\n",
        "https://docs.google.com/spreadsheets/d/1y1dWMJ9ZvPqDy4n0OFDqX2cU9ZCeAPAZdZkMXjT3hM8/edit#gid=1461199714\n",
        "\n",
        "Seoul Final short21c - Colaboratory\n",
        "https://colab.research.google.com/drive/1t1C-UB4sfvQzA4UeGTE92txsWvXfF0Zv#scrollTo=yBN3RcoEP0YK\n",
        "\n",
        "Seoul 2023 all - Google My Maps\n",
        "https://www.google.com/maps/d/edit?mid=11W9YlTNS9c9V_o82q_BIdMDCMv1mMjw&ll=37.43701473316136%2C126.9775425804699&z=12\n",
        "\n",
        "Google Maps - gmplot\n",
        "file:///C:/Users/wongk.DESKTOP-1TC7OMQ/Downloads/poi_map%20(4)%20edited.html\n",
        "\n",
        "google doc - Search\n",
        "https://www.bing.com/search?q=google+doc&form=ANNTH1&refig=11864c7d9df84ebbbd2e947d6fec3731\n",
        "\n",
        "google sheets login - Search\n",
        "https://www.bing.com/search?pglt=675&q=google+sheets+login&cvid=13a629d2e7aa4fdea5e573d77c300670&aqs=edge.1.46\n",
        "\n",
        "POI text\n",
        "C:\\Users\\User\\AI_GPT4\\_AI_Rough\\SKorea\\Seoul Travel GPS Bard\n",
        "\n",
        "kml downloaded from colab\n",
        "C:\\Users\\wongk.DESKTOP-1TC7OMQ\\Downloads\n",
        "\n",
        "python header files apikey.txt; libraries\n",
        "C:\\Users\\User\\AI_GPT4\\_AI_Rough\\SKorea\\SKorea"
      ]
    },
    {
      "cell_type": "code",
      "source": [
        "'''\n",
        "Seoul POI 03 2023 - Google Sheets\n",
        "https://docs.google.com/spreadsheets/d/1y1dWMJ9ZvPqDy4n0OFDqX2cU9ZCeAPAZdZkMXjT3hM8/edit#gid=1461199714\n",
        "\n",
        "Seoul Final short21c - Colaboratory\n",
        "https://colab.research.google.com/drive/1t1C-UB4sfvQzA4UeGTE92txsWvXfF0Zv#scrollTo=yBN3RcoEP0YK\n",
        "\n",
        "Seoul 2023 all - Google My Maps\n",
        "https://www.google.com/maps/d/edit?mid=11W9YlTNS9c9V_o82q_BIdMDCMv1mMjw&ll=37.43701473316136%2C126.9775425804699&z=12\n",
        "'''"
      ],
      "metadata": {
        "id": "hjWalXqoQGah"
      },
      "execution_count": null,
      "outputs": []
    },
    {
      "cell_type": "code",
      "source": [
        "!pip install -U googlemaps\n",
        "!pip install simplekml==1.3.6 \n"
      ],
      "metadata": {
        "id": "a4b0PXfklizq",
        "colab": {
          "base_uri": "https://localhost:8080/"
        },
        "outputId": "55d832ce-385a-48af-c6a8-ab2d28a941df"
      },
      "execution_count": 2,
      "outputs": [
        {
          "output_type": "stream",
          "name": "stdout",
          "text": [
            "Looking in indexes: https://pypi.org/simple, https://us-python.pkg.dev/colab-wheels/public/simple/\n",
            "Collecting googlemaps\n",
            "  Downloading googlemaps-4.10.0.tar.gz (33 kB)\n",
            "  Preparing metadata (setup.py) ... \u001b[?25l\u001b[?25hdone\n",
            "Requirement already satisfied: requests<3.0,>=2.20.0 in /usr/local/lib/python3.10/dist-packages (from googlemaps) (2.27.1)\n",
            "Requirement already satisfied: urllib3<1.27,>=1.21.1 in /usr/local/lib/python3.10/dist-packages (from requests<3.0,>=2.20.0->googlemaps) (1.26.15)\n",
            "Requirement already satisfied: certifi>=2017.4.17 in /usr/local/lib/python3.10/dist-packages (from requests<3.0,>=2.20.0->googlemaps) (2022.12.7)\n",
            "Requirement already satisfied: charset-normalizer~=2.0.0 in /usr/local/lib/python3.10/dist-packages (from requests<3.0,>=2.20.0->googlemaps) (2.0.12)\n",
            "Requirement already satisfied: idna<4,>=2.5 in /usr/local/lib/python3.10/dist-packages (from requests<3.0,>=2.20.0->googlemaps) (3.4)\n",
            "Building wheels for collected packages: googlemaps\n",
            "  Building wheel for googlemaps (setup.py) ... \u001b[?25l\u001b[?25hdone\n",
            "  Created wheel for googlemaps: filename=googlemaps-4.10.0-py3-none-any.whl size=40718 sha256=3add19d01d10d5cfaf7e5ad0fb4612b94d786bfa0f89fb5d1c32e8d0f1130da7\n",
            "  Stored in directory: /root/.cache/pip/wheels/17/f8/79/999d5d37118fd35d7219ef57933eb9d09886c4c4503a800f84\n",
            "Successfully built googlemaps\n",
            "Installing collected packages: googlemaps\n",
            "Successfully installed googlemaps-4.10.0\n",
            "Looking in indexes: https://pypi.org/simple, https://us-python.pkg.dev/colab-wheels/public/simple/\n",
            "Collecting simplekml==1.3.6\n",
            "  Downloading simplekml-1.3.6.tar.gz (52 kB)\n",
            "\u001b[2K     \u001b[90m━━━━━━━━━━━━━━━━━━━━━━━━━━━━━━━━━━━━━━━━\u001b[0m \u001b[32m53.0/53.0 kB\u001b[0m \u001b[31m4.8 MB/s\u001b[0m eta \u001b[36m0:00:00\u001b[0m\n",
            "\u001b[?25h  Preparing metadata (setup.py) ... \u001b[?25l\u001b[?25hdone\n",
            "Building wheels for collected packages: simplekml\n",
            "  Building wheel for simplekml (setup.py) ... \u001b[?25l\u001b[?25hdone\n",
            "  Created wheel for simplekml: filename=simplekml-1.3.6-py3-none-any.whl size=65860 sha256=d49d147e41e22d9957d81fd865286d0e0500baa8932c6b26da6410a64ae4f759\n",
            "  Stored in directory: /root/.cache/pip/wheels/16/7c/e6/621a95f24bd1ff987368f1c37881ffe013433ff6b413d87fcb\n",
            "Successfully built simplekml\n",
            "Installing collected packages: simplekml\n",
            "Successfully installed simplekml-1.3.6\n"
          ]
        }
      ]
    },
    {
      "cell_type": "code",
      "source": [],
      "metadata": {
        "id": "CRrH42PfQGe_"
      },
      "execution_count": null,
      "outputs": []
    },
    {
      "cell_type": "code",
      "source": [],
      "metadata": {
        "id": "PYlHFmJbQGlt"
      },
      "execution_count": null,
      "outputs": []
    },
    {
      "cell_type": "code",
      "source": [
        "\n",
        "'''\n",
        "boomark02  good\n",
        "#---------------\n",
        "!pip install -U googlemaps \n",
        "!pip install -U gmaps \n",
        "!pip install simplekml==1.3.6\n",
        "\n",
        "!pip install simplekml==1.3.0\n",
        "!pip install simplekml\n",
        "!jupyter nbextension enable --py --sys-prefix gmaps\n",
        "\n",
        "#--------\n",
        "''' \n",
        "#!pip install simplekml==1.3.6 \n",
        "import googlemaps \n",
        "from pprint import pprint \n",
        "import os\n",
        "\n",
        "#Replace YOUR_API_KEY with your actual API key\n",
        "with open('apikey.txt') as f: \n",
        "  api_key = f.readline() \n",
        "  f.close \n",
        "  gmaps = googlemaps.Client(key= api_key)\n",
        "\n",
        " #   #Check if the file exists and delete it if it does\n",
        "import os\n",
        "geocode_results = [] \n",
        "if os.path.exists('cities.txt'): \n",
        "  os.remove('cities.txt')\n",
        "\n",
        "from pprint import pprint\n",
        "#Read the addresses from a text file\n",
        "with open('addresses.txt', 'r') as f: addresses = f.readlines()\n",
        "\n",
        "#Geocode the addresses\n",
        "geocode_results = []\n",
        "\n",
        "for address in addresses: \n",
        "\n",
        "    # Remove any newline characters from the address\n",
        "    address = address.strip()  \n",
        "    geocode_result = gmaps.geocode(address)\n",
        "\n",
        "    #----------prepare cities.txt ----\n",
        " #   import os\n",
        " #   #Check if the file exists and delete it if it does\n",
        " #   if os.path.exists('cities.txt'):\n",
        " #       os.remove('cities.txt')\n",
        "\n",
        "    for result in geocode_result:\n",
        "        #geocode_results.append(geocode_result)\n",
        "        print ( f\"{address} / {result['geometry']['location']['lat']} / {result['geometry']['location']['lng']}\\n\")\n",
        "\n",
        "    with open('cities.txt', 'a') as f:\n",
        "#       Remove any newline characters from the address\n",
        "        f.write(f\"{address} / {result['geometry']['location']['lat']} / {result['geometry']['location']['lng']}\\n\")\n",
        "\n",
        "\n"
      ],
      "metadata": {
        "id": "ZOcWf0cslizq",
        "colab": {
          "base_uri": "https://localhost:8080/"
        },
        "outputId": "47ce113c-d2d9-49e8-b180-dcd6b0fe0fc3"
      },
      "execution_count": 6,
      "outputs": [
        {
          "output_type": "stream",
          "name": "stdout",
          "text": [
            "Holiday Inn Incheon, Songdo Seoul, South Korea / 37.3932051 / 126.6328975\n",
            "\n",
            "Holiday Inn Incheon, Songdo Seoul, South Korea / 37.5518911 / 126.9917937\n",
            "\n",
            "Toyoko Inn Bupyeong Hotel Seoul, South Korea / 37.5518911 / 126.9917937\n",
            "\n",
            "Toyoko Inn Bupyeong Hotel Seoul, South Korea / 37.4904129 / 126.7220522\n",
            "\n",
            "Metro Hotel Seoul, South Korea / 37.565127 / 126.983688\n",
            "\n"
          ]
        }
      ]
    },
    {
      "cell_type": "code",
      "source": [],
      "metadata": {
        "id": "SdRbtsRQQGr7"
      },
      "execution_count": null,
      "outputs": []
    },
    {
      "cell_type": "code",
      "source": [],
      "metadata": {
        "id": "orl89VfgQGtk"
      },
      "execution_count": null,
      "outputs": []
    },
    {
      "cell_type": "code",
      "source": [
        "\n",
        "'''\n",
        "bookmark03  good\n",
        "#---------------\n",
        "!pip install -U googlemaps \n",
        "!pip install -U gmaps \n",
        "!pip install simplekml==1.3.6\n",
        "\n",
        "!pip install simplekml==1.3.0\n",
        "!pip install simplekml\n",
        "!jupyter nbextension enable --py --sys-prefix gmaps\n",
        "\n",
        "#--------\n",
        "''' \n",
        "#!pip install simplekml==1.3.6 \n",
        "import googlemaps \n",
        "from pprint import pprint \n",
        "import os\n",
        "\n",
        "#Replace YOUR_API_KEY with your actual API key\n",
        "with open('apikey.txt') as f: \n",
        "  api_key = f.readline() \n",
        "  f.close \n",
        "  gmaps = googlemaps.Client(key= api_key)\n",
        "\n",
        "geocode_results = [] \n",
        "if os.path.exists('cities.txt'): \n",
        "  os.remove('cities.txt')\n",
        "\n",
        "from pprint import pprint\n",
        "#Read the addresses from a text file\n",
        "with open('addresses.txt', 'r') as f: addresses = f.readlines()\n",
        "\n",
        "#Geocode the addresses\n",
        "geocode_results = []\n",
        "\n",
        "import os\n",
        "#Check if the file exists and delete it if it does\n",
        "if os.path.exists('cities.txt'):\n",
        "    os.remove('cities.txt')\n",
        "\n",
        "for address in addresses: \n",
        "\n",
        "    # Remove any newline characters from the address\n",
        "    address = address.strip()  \n",
        "    geocode_result = gmaps.geocode(address)\n",
        "\n",
        "    #----------prepare cities.txt ----\n",
        "\n",
        "\n",
        "    with open('cities.txt', 'a') as f:\n",
        "        for result in geocode_result:\n",
        "            #geocode_results.append(geocode_result)\n",
        "            print ( f\"{address} / {result['geometry']['location']['lat']} / {result['geometry']['location']['lng']}\\n\")\n",
        "        \n",
        "    #       Remove any newline characters from the address\n",
        "            f.write(f\"{address} / {result['geometry']['location']['lat']} / {result['geometry']['location']['lng']}\\n\")\n",
        "\n",
        "\n"
      ],
      "metadata": {
        "colab": {
          "base_uri": "https://localhost:8080/",
          "height": 1000
        },
        "id": "MqiFTdZ0RzLi",
        "outputId": "ccd0791a-2bf2-4346-c387-78a0e828e866"
      },
      "execution_count": 8,
      "outputs": [
        {
          "output_type": "stream",
          "name": "stdout",
          "text": [
            "Incheon International Airport: 272 Gonghang-ro, Jung-gu, Incheon, South Korea / 37.4794888 / 126.4409139\n",
            "\n",
            "A'REX train: 2850 Unseo-dong, Jung-gu, Incheon, South Korea / 37.4695092 / 126.4507804\n",
            "\n",
            "Incheon Line 1: 30, Simgok-ro 58beon-gil, Danwon-gu, Ansan-si, Gyeonggi-do, South Korea / 37.3227276 / 126.7914059\n",
            "\n",
            "Holiday Inn Incheon, Songdo: 251 Incheon Tower-daero, Yeonsu-gu, Incheon, South Korea / 37.3932051 / 126.6328975\n",
            "\n",
            "Toyoko Inn Bupyeong Hotel: 3F, 28-1 Bupyeong-daero 354beon-gil, Bupyeong-gu, Incheon, South Korea / 37.4948653 / 126.7229638\n",
            "\n",
            "Toyoko Inn Bupyeong Hotel: 3F, 28-1 Bupyeong-daero 354beon-gil, Bupyeong-gu, Incheon, South Korea / 37.4938761 / 126.7232494\n",
            "\n",
            "Toyoko Inn Bupyeong Hotel: 3F, 28-1 Bupyeong-daero 354beon-gil, Bupyeong-gu, Incheon, South Korea / 37.4904129 / 126.7220522\n",
            "\n",
            "Metro Hotel: 20-1 Namchang-dong 3(sam)-ga, Jung-gu, Seoul, South Korea / 37.5568812 / 126.978507\n",
            "\n",
            "Gonghwachun Restaurant: 88-1 Chungmuro 2(i)-ga, Jung-gu, Seoul, South Korea / 37.5617648 / 126.9934267\n",
            "\n",
            "Gonghwachun Restaurant: 88-1 Chungmuro 2(i)-ga, Jung-gu, Seoul, South Korea / 37.4753728 / 126.6195592\n",
            "\n",
            "Simnihyang: 15-5 Myeongdong 7(chil)-ga, Jung-gu, Seoul, South Korea / 37.5588651 / 126.9839809\n",
            "\n",
            "Myeongdong Kyoja: 29 Myeongdong 10-gil, Myeongdong 2(i)-ga, Jung-gu, Seoul, South Korea / 37.5625266 / 126.985609\n",
            "\n",
            "Cafe Highwaist: 22-1 Namsan-dong 2(i)-ga, Yongsan-gu, Seoul, South Korea / 37.5325905 / 126.9543617\n",
            "\n",
            "Cafe Highwaist: 22-1 Namsan-dong 2(i)-ga, Yongsan-gu, Seoul, South Korea / 37.5645337 / 126.9250621\n",
            "\n",
            "Mil Toasthouse: 9-1 Myeongdong 8na-gil, Myeongdong 2(i)-ga, Jung-gu, Seoul, South Korea / 37.5612893 / 126.9844321\n",
            "\n",
            "Mil Toasthouse: 9-1 Myeongdong 8na-gil, Myeongdong 2(i)-ga, Jung-gu, Seoul, South Korea / 37.57311920000001 / 126.9903425\n",
            "\n",
            "Jogaewa Seafood Bar & Restaurant: 35 Myeongdong 8na-gil, Myeongdong 2(i)-ga, Jung-gu, Seoul, South Korea / 37.56113 / 126.9829938\n",
            "\n",
            "Jogaewa Seafood Bar & Restaurant: 35 Myeongdong 8na-gil, Myeongdong 2(i)-ga, Jung-gu, Seoul, South Korea / 37.564526 / 126.984212\n",
            "\n",
            "Myeongdong Tonkatsu: 26 Myeongdong 8na-gil, Myeongdong 2(i)-ga, Jung-gu, Seoul, South Korea / 37.5639929 / 126.9835683\n",
            "\n",
            "Myeongdong Tonkatsu: 26 Myeongdong 8na-gil, Myeongdong 2(i)-ga, Jung-gu, Seoul, South Korea / 37.5614406 / 126.9835202\n",
            "\n",
            "Tosokchon Samyetang: 85-1 Chebu-dong Jongno-gu, Seoul / 37.5775632 / 126.9715804\n",
            "\n",
            "Tosokchon Samyetang: 85-1 Chebu-dong Jongno-gu, Seoul / 37.5776249 / 126.9716821\n",
            "\n",
            "Bongchu Jjimdak: 34 Myeongdong 8na-gil, Myeongdong 2(i)-ga, Jung-gu, Seoul / 37.5610647 / 126.9822893\n",
            "\n",
            "Bongchu Jjimdak: 34 Myeongdong 8na-gil, Myeongdong 2(i)-ga, Jung-gu, Seoul / 37.561119 / 126.983378\n",
            "\n",
            "Gebang sikdang: Bupyeong-daero 1676beon-gil Bupyeong-gu Incheon / 37.50798150000001 / 126.7212057\n",
            "\n",
            "Gebang sikdang: Bupyeong-daero 1676beon-gil Bupyeong-gu Incheon / 37.5172783 / 127.0394223\n",
            "\n",
            "Eun&Jeong Myeongdong Dakgalbi Budaejjigae: 15 Myeongdong 7(chil)-ga Jung-gu Seoul / 37.5646802 / 126.9842631\n",
            "\n",
            "Eun&Jeong Myeongdong Dakgalbi Budaejjigae: 15 Myeongdong 7(chil)-ga Jung-gu Seoul / 37.5646802 / 126.9842631\n",
            "\n",
            "Yoogane: 53-9 Myeongdong 2(i)-ga Jung-gu Seoul / 37.5618276 / 126.9856532\n",
            "\n",
            "Bonjuk Myeongdong Branch: Toegye-ro 20gil Jung-gu Seoul / 37.5614867 / 126.9853997\n",
            "\n",
            "Bonjuk Myeongdong Branch: Toegye-ro 20gil Jung-gu Seoul / 37.5588189 / 126.986211\n",
            "\n",
            "Mugyodong Bugeokukjib: Mugyo-dong Jongno-gu Seoul / 37.5681575 / 126.9790126\n",
            "\n",
            "Woo Lae Oak: Hyoja-dong Jongno-gu Seoul / 37.58266709999999 / 126.9719526\n",
            "\n",
            "Woo Lae Oak: Hyoja-dong Jongno-gu Seoul / 37.5681851 / 126.9987092\n",
            "\n",
            "1 man 1 cup1인1잔: Seogyo-dong Mapo-gu Seoul / 37.553038 / 126.9117823\n",
            "\n",
            "Korean Samgyetang: Toegye-ro Jung-gu Seoul / 37.5598135 / 126.9857745\n",
            "\n",
            "Incheon Metropolitan City Museum: 45 Munhak-ro 123beon-gil Namdong-gu Incheon / 37.4208435 / 126.6532546\n",
            "\n",
            "Incheon Metropolitan City Museum: 45 Munhak-ro 123beon-gil Namdong-gu Incheon / 37.4350619 / 126.6907212\n",
            "\n",
            "Memorial Hall for Incheon Landing Operation: Wolmido-ro Wolmido-dong Jung-gu Incheon / 37.4196092 / 126.6542628\n",
            "\n",
            "Memorial Hall for Incheon Landing Operation: Wolmido-ro Wolmido-dong Jung-gu Incheon / 37.4754003 / 126.5978148\n",
            "\n",
            "Sinpo International Market: Sinpo-dong Jung-gu Incheon / 37.4713875 / 126.6272078\n",
            "\n",
            "Incheon Chinatown: Gwangjang-dong Jung-gu Incheon / 37.475589 / 126.6178849\n",
            "\n",
            "Incheon Chinatown: Gwangjang-dong Jung-gu Incheon / 37.5478239 / 127.1047149\n",
            "\n",
            "Jayu Park: Jayumuyeok-ro Namdong-gu Incheon / 37.4754315 / 126.6217678\n",
            "\n",
            "Jayu Park: Jayumuyeok-ro Namdong-gu Incheon / 37.4846564 / 126.4777617\n",
            "\n",
            "Songwol-dong Fairy Tale Village: Songwol-dong Incheon / 37.4776611 / 126.6205827\n",
            "\n",
            "Ikseon-dong Hanok Village: Ikseon-dong Jongno-gu Seoul / 37.5737132 / 126.9901271\n",
            "\n",
            "Gyeongdong market: Jayang-dong Gwangjin / 37.531692 / 127.074516\n",
            "\n",
            "Gyeongdong market: Jayang-dong Gwangjin / 37.5797534 / 127.0390013\n",
            "\n"
          ]
        },
        {
          "output_type": "error",
          "ename": "HTTPError",
          "evalue": "ignored",
          "traceback": [
            "\u001b[0;31m---------------------------------------------------------------------------\u001b[0m",
            "\u001b[0;31mHTTPError\u001b[0m                                 Traceback (most recent call last)",
            "\u001b[0;32m<ipython-input-8-b11180151562>\u001b[0m in \u001b[0;36m<cell line: 41>\u001b[0;34m()\u001b[0m\n\u001b[1;32m     43\u001b[0m     \u001b[0;31m# Remove any newline characters from the address\u001b[0m\u001b[0;34m\u001b[0m\u001b[0;34m\u001b[0m\u001b[0m\n\u001b[1;32m     44\u001b[0m     \u001b[0maddress\u001b[0m \u001b[0;34m=\u001b[0m \u001b[0maddress\u001b[0m\u001b[0;34m.\u001b[0m\u001b[0mstrip\u001b[0m\u001b[0;34m(\u001b[0m\u001b[0;34m)\u001b[0m\u001b[0;34m\u001b[0m\u001b[0;34m\u001b[0m\u001b[0m\n\u001b[0;32m---> 45\u001b[0;31m     \u001b[0mgeocode_result\u001b[0m \u001b[0;34m=\u001b[0m \u001b[0mgmaps\u001b[0m\u001b[0;34m.\u001b[0m\u001b[0mgeocode\u001b[0m\u001b[0;34m(\u001b[0m\u001b[0maddress\u001b[0m\u001b[0;34m)\u001b[0m\u001b[0;34m\u001b[0m\u001b[0;34m\u001b[0m\u001b[0m\n\u001b[0m\u001b[1;32m     46\u001b[0m \u001b[0;34m\u001b[0m\u001b[0m\n\u001b[1;32m     47\u001b[0m     \u001b[0;31m#----------prepare cities.txt ----\u001b[0m\u001b[0;34m\u001b[0m\u001b[0;34m\u001b[0m\u001b[0m\n",
            "\u001b[0;32m/usr/local/lib/python3.10/dist-packages/googlemaps/client.py\u001b[0m in \u001b[0;36mwrapper\u001b[0;34m(*args, **kwargs)\u001b[0m\n\u001b[1;32m    443\u001b[0m     \u001b[0;32mdef\u001b[0m \u001b[0mwrapper\u001b[0m\u001b[0;34m(\u001b[0m\u001b[0;34m*\u001b[0m\u001b[0margs\u001b[0m\u001b[0;34m,\u001b[0m \u001b[0;34m**\u001b[0m\u001b[0mkwargs\u001b[0m\u001b[0;34m)\u001b[0m\u001b[0;34m:\u001b[0m\u001b[0;34m\u001b[0m\u001b[0;34m\u001b[0m\u001b[0m\n\u001b[1;32m    444\u001b[0m         \u001b[0margs\u001b[0m\u001b[0;34m[\u001b[0m\u001b[0;36m0\u001b[0m\u001b[0;34m]\u001b[0m\u001b[0;34m.\u001b[0m\u001b[0m_extra_params\u001b[0m \u001b[0;34m=\u001b[0m \u001b[0mkwargs\u001b[0m\u001b[0;34m.\u001b[0m\u001b[0mpop\u001b[0m\u001b[0;34m(\u001b[0m\u001b[0;34m\"extra_params\"\u001b[0m\u001b[0;34m,\u001b[0m \u001b[0;32mNone\u001b[0m\u001b[0;34m)\u001b[0m\u001b[0;34m\u001b[0m\u001b[0;34m\u001b[0m\u001b[0m\n\u001b[0;32m--> 445\u001b[0;31m         \u001b[0mresult\u001b[0m \u001b[0;34m=\u001b[0m \u001b[0mfunc\u001b[0m\u001b[0;34m(\u001b[0m\u001b[0;34m*\u001b[0m\u001b[0margs\u001b[0m\u001b[0;34m,\u001b[0m \u001b[0;34m**\u001b[0m\u001b[0mkwargs\u001b[0m\u001b[0;34m)\u001b[0m\u001b[0;34m\u001b[0m\u001b[0;34m\u001b[0m\u001b[0m\n\u001b[0m\u001b[1;32m    446\u001b[0m         \u001b[0;32mtry\u001b[0m\u001b[0;34m:\u001b[0m\u001b[0;34m\u001b[0m\u001b[0;34m\u001b[0m\u001b[0m\n\u001b[1;32m    447\u001b[0m             \u001b[0;32mdel\u001b[0m \u001b[0margs\u001b[0m\u001b[0;34m[\u001b[0m\u001b[0;36m0\u001b[0m\u001b[0;34m]\u001b[0m\u001b[0;34m.\u001b[0m\u001b[0m_extra_params\u001b[0m\u001b[0;34m\u001b[0m\u001b[0;34m\u001b[0m\u001b[0m\n",
            "\u001b[0;32m/usr/local/lib/python3.10/dist-packages/googlemaps/geocoding.py\u001b[0m in \u001b[0;36mgeocode\u001b[0;34m(client, address, place_id, components, bounds, region, language)\u001b[0m\n\u001b[1;32m     73\u001b[0m         \u001b[0mparams\u001b[0m\u001b[0;34m[\u001b[0m\u001b[0;34m\"language\"\u001b[0m\u001b[0;34m]\u001b[0m \u001b[0;34m=\u001b[0m \u001b[0mlanguage\u001b[0m\u001b[0;34m\u001b[0m\u001b[0;34m\u001b[0m\u001b[0m\n\u001b[1;32m     74\u001b[0m \u001b[0;34m\u001b[0m\u001b[0m\n\u001b[0;32m---> 75\u001b[0;31m     \u001b[0;32mreturn\u001b[0m \u001b[0mclient\u001b[0m\u001b[0;34m.\u001b[0m\u001b[0m_request\u001b[0m\u001b[0;34m(\u001b[0m\u001b[0;34m\"/maps/api/geocode/json\"\u001b[0m\u001b[0;34m,\u001b[0m \u001b[0mparams\u001b[0m\u001b[0;34m)\u001b[0m\u001b[0;34m.\u001b[0m\u001b[0mget\u001b[0m\u001b[0;34m(\u001b[0m\u001b[0;34m\"results\"\u001b[0m\u001b[0;34m,\u001b[0m \u001b[0;34m[\u001b[0m\u001b[0;34m]\u001b[0m\u001b[0;34m)\u001b[0m\u001b[0;34m\u001b[0m\u001b[0;34m\u001b[0m\u001b[0m\n\u001b[0m\u001b[1;32m     76\u001b[0m \u001b[0;34m\u001b[0m\u001b[0m\n\u001b[1;32m     77\u001b[0m \u001b[0;34m\u001b[0m\u001b[0m\n",
            "\u001b[0;32m/usr/local/lib/python3.10/dist-packages/googlemaps/client.py\u001b[0m in \u001b[0;36m_request\u001b[0;34m(self, url, params, first_request_time, retry_counter, base_url, accepts_clientid, extract_body, requests_kwargs, post_json)\u001b[0m\n\u001b[1;32m    338\u001b[0m                 \u001b[0mresult\u001b[0m \u001b[0;34m=\u001b[0m \u001b[0mextract_body\u001b[0m\u001b[0;34m(\u001b[0m\u001b[0mresponse\u001b[0m\u001b[0;34m)\u001b[0m\u001b[0;34m\u001b[0m\u001b[0;34m\u001b[0m\u001b[0m\n\u001b[1;32m    339\u001b[0m             \u001b[0;32melse\u001b[0m\u001b[0;34m:\u001b[0m\u001b[0;34m\u001b[0m\u001b[0;34m\u001b[0m\u001b[0m\n\u001b[0;32m--> 340\u001b[0;31m                 \u001b[0mresult\u001b[0m \u001b[0;34m=\u001b[0m \u001b[0mself\u001b[0m\u001b[0;34m.\u001b[0m\u001b[0m_get_body\u001b[0m\u001b[0;34m(\u001b[0m\u001b[0mresponse\u001b[0m\u001b[0;34m)\u001b[0m\u001b[0;34m\u001b[0m\u001b[0;34m\u001b[0m\u001b[0m\n\u001b[0m\u001b[1;32m    341\u001b[0m             \u001b[0mself\u001b[0m\u001b[0;34m.\u001b[0m\u001b[0msent_times\u001b[0m\u001b[0;34m.\u001b[0m\u001b[0mappend\u001b[0m\u001b[0;34m(\u001b[0m\u001b[0mtime\u001b[0m\u001b[0;34m.\u001b[0m\u001b[0mtime\u001b[0m\u001b[0;34m(\u001b[0m\u001b[0;34m)\u001b[0m\u001b[0;34m)\u001b[0m\u001b[0;34m\u001b[0m\u001b[0;34m\u001b[0m\u001b[0m\n\u001b[1;32m    342\u001b[0m             \u001b[0;32mreturn\u001b[0m \u001b[0mresult\u001b[0m\u001b[0;34m\u001b[0m\u001b[0;34m\u001b[0m\u001b[0m\n",
            "\u001b[0;32m/usr/local/lib/python3.10/dist-packages/googlemaps/client.py\u001b[0m in \u001b[0;36m_get_body\u001b[0;34m(self, response)\u001b[0m\n\u001b[1;32m    355\u001b[0m     \u001b[0;32mdef\u001b[0m \u001b[0m_get_body\u001b[0m\u001b[0;34m(\u001b[0m\u001b[0mself\u001b[0m\u001b[0;34m,\u001b[0m \u001b[0mresponse\u001b[0m\u001b[0;34m)\u001b[0m\u001b[0;34m:\u001b[0m\u001b[0;34m\u001b[0m\u001b[0;34m\u001b[0m\u001b[0m\n\u001b[1;32m    356\u001b[0m         \u001b[0;32mif\u001b[0m \u001b[0mresponse\u001b[0m\u001b[0;34m.\u001b[0m\u001b[0mstatus_code\u001b[0m \u001b[0;34m!=\u001b[0m \u001b[0;36m200\u001b[0m\u001b[0;34m:\u001b[0m\u001b[0;34m\u001b[0m\u001b[0;34m\u001b[0m\u001b[0m\n\u001b[0;32m--> 357\u001b[0;31m             \u001b[0;32mraise\u001b[0m \u001b[0mgooglemaps\u001b[0m\u001b[0;34m.\u001b[0m\u001b[0mexceptions\u001b[0m\u001b[0;34m.\u001b[0m\u001b[0mHTTPError\u001b[0m\u001b[0;34m(\u001b[0m\u001b[0mresponse\u001b[0m\u001b[0;34m.\u001b[0m\u001b[0mstatus_code\u001b[0m\u001b[0;34m)\u001b[0m\u001b[0;34m\u001b[0m\u001b[0;34m\u001b[0m\u001b[0m\n\u001b[0m\u001b[1;32m    358\u001b[0m \u001b[0;34m\u001b[0m\u001b[0m\n\u001b[1;32m    359\u001b[0m         \u001b[0mbody\u001b[0m \u001b[0;34m=\u001b[0m \u001b[0mresponse\u001b[0m\u001b[0;34m.\u001b[0m\u001b[0mjson\u001b[0m\u001b[0;34m(\u001b[0m\u001b[0;34m)\u001b[0m\u001b[0;34m\u001b[0m\u001b[0;34m\u001b[0m\u001b[0m\n",
            "\u001b[0;31mHTTPError\u001b[0m: HTTP Error: 400"
          ]
        }
      ]
    },
    {
      "cell_type": "code",
      "source": [],
      "metadata": {
        "id": "yuHfB1KvQGxK"
      },
      "execution_count": null,
      "outputs": []
    },
    {
      "cell_type": "code",
      "source": [],
      "metadata": {
        "id": "TxBSD-sHQG1s"
      },
      "execution_count": 6,
      "outputs": []
    },
    {
      "cell_type": "code",
      "source": [
        "##===================== part2 =================================\n",
        "#------ create kml file ------- cities = [] with open('cities.txt', 'r') as f: for line in f: parts = line.strip().split('/') if len(parts) < 3: print(f\"Invalid line: {line}\") else: city = parts[0].strip('') lat = float(parts[-2]) lon = float(parts[-1]) cities.append((city, lat, lon))\n",
        "\n",
        "#----------------\n",
        "import simplekml \n",
        "\n",
        "with open('cities.txt', 'r') as f:\n",
        "    cities = [tuple(line.strip().split('/')) for line in f]\n",
        "\n",
        "kml = simplekml.Kml(open=1) # the folder will be open in the table of contents\n",
        "\n",
        "for city, lat, lon in cities: \n",
        "    pnt = kml.newpoint() \n",
        "    pnt.name = city \n",
        "    pnt.description = \"Time corresponding to 12:00 noon\"\n",
        "    #pnt.coords = [(lat, lon)]\n",
        "    #pnt.coords = [(lon, lat)]\n",
        "    pnt.coords = [(float(lon), float(lat))]    \n",
        "    kml.save(\"KML 04.kml\")"
      ],
      "metadata": {
        "id": "XUsVhwcFlizq"
      },
      "execution_count": 9,
      "outputs": []
    },
    {
      "cell_type": "code",
      "source": [],
      "metadata": {
        "id": "k2byw8D7SVey"
      },
      "execution_count": null,
      "outputs": []
    },
    {
      "cell_type": "code",
      "source": [
        "with open('addresses.txt', 'r') as f:\n",
        "    lines = f.readlines()\n",
        "\n",
        "cleaned_lines = [line.strip() for line in lines]\n",
        "\n",
        "with open('addresses.txt', 'w') as f:\n",
        "    for line in cleaned_lines:\n",
        "        f.write(line + '\\n')"
      ],
      "metadata": {
        "id": "2WT66ZTXRyXh"
      },
      "execution_count": 7,
      "outputs": []
    },
    {
      "cell_type": "code",
      "source": [],
      "metadata": {
        "id": "qONtAfmIQG7y"
      },
      "execution_count": null,
      "outputs": []
    },
    {
      "cell_type": "code",
      "source": [
        "with open('addresses.txt', 'r') as file:\n",
        "    lines = file.readlines()\n",
        "    line_count = len(lines)\n",
        "    print(f'The file contains {line_count} lines.')"
      ],
      "metadata": {
        "id": "Ds-T9jBUlizq",
        "colab": {
          "base_uri": "https://localhost:8080/"
        },
        "outputId": "13c7bd5c-8554-4524-f2e3-6ac434c4c8a8"
      },
      "execution_count": 5,
      "outputs": [
        {
          "output_type": "stream",
          "name": "stdout",
          "text": [
            "The file contains 33 lines.\n"
          ]
        }
      ]
    },
    {
      "cell_type": "code",
      "source": [],
      "metadata": {
        "id": "jKBZmvXwQe-t"
      },
      "execution_count": 1,
      "outputs": []
    },
    {
      "cell_type": "code",
      "source": [
        "lines_seen = set() # holds lines already seen\n",
        "outfile = open(cities1.txt, \"w\")\n",
        "for line in open(cities.txt, \"r\"):\n",
        "    if line not in lines_seen: # not a duplicate\n",
        "        outfile.write(line)\n",
        "        lines_seen.add(line)\n",
        "outfile.close()"
      ],
      "metadata": {
        "colab": {
          "base_uri": "https://localhost:8080/",
          "height": 236
        },
        "id": "HYnCROzQCqL7",
        "outputId": "153c617c-7759-4499-f1fd-a0daf6ea47c4"
      },
      "execution_count": 6,
      "outputs": [
        {
          "output_type": "error",
          "ename": "NameError",
          "evalue": "ignored",
          "traceback": [
            "\u001b[0;31m---------------------------------------------------------------------------\u001b[0m",
            "\u001b[0;31mNameError\u001b[0m                                 Traceback (most recent call last)",
            "\u001b[0;32m<ipython-input-6-faecbbab704b>\u001b[0m in \u001b[0;36m<cell line: 2>\u001b[0;34m()\u001b[0m\n\u001b[1;32m      1\u001b[0m \u001b[0mlines_seen\u001b[0m \u001b[0;34m=\u001b[0m \u001b[0mset\u001b[0m\u001b[0;34m(\u001b[0m\u001b[0;34m)\u001b[0m \u001b[0;31m# holds lines already seen\u001b[0m\u001b[0;34m\u001b[0m\u001b[0;34m\u001b[0m\u001b[0m\n\u001b[0;32m----> 2\u001b[0;31m \u001b[0moutfile\u001b[0m \u001b[0;34m=\u001b[0m \u001b[0mopen\u001b[0m\u001b[0;34m(\u001b[0m\u001b[0mcities1\u001b[0m\u001b[0;34m.\u001b[0m\u001b[0mtxt\u001b[0m\u001b[0;34m,\u001b[0m \u001b[0;34m\"w\"\u001b[0m\u001b[0;34m)\u001b[0m\u001b[0;34m\u001b[0m\u001b[0;34m\u001b[0m\u001b[0m\n\u001b[0m\u001b[1;32m      3\u001b[0m \u001b[0;32mfor\u001b[0m \u001b[0mline\u001b[0m \u001b[0;32min\u001b[0m \u001b[0mopen\u001b[0m\u001b[0;34m(\u001b[0m\u001b[0mcities\u001b[0m\u001b[0;34m.\u001b[0m\u001b[0mtxt\u001b[0m\u001b[0;34m,\u001b[0m \u001b[0;34m\"r\"\u001b[0m\u001b[0;34m)\u001b[0m\u001b[0;34m:\u001b[0m\u001b[0;34m\u001b[0m\u001b[0;34m\u001b[0m\u001b[0m\n\u001b[1;32m      4\u001b[0m     \u001b[0;32mif\u001b[0m \u001b[0mline\u001b[0m \u001b[0;32mnot\u001b[0m \u001b[0;32min\u001b[0m \u001b[0mlines_seen\u001b[0m\u001b[0;34m:\u001b[0m \u001b[0;31m# not a duplicate\u001b[0m\u001b[0;34m\u001b[0m\u001b[0;34m\u001b[0m\u001b[0m\n\u001b[1;32m      5\u001b[0m         \u001b[0moutfile\u001b[0m\u001b[0;34m.\u001b[0m\u001b[0mwrite\u001b[0m\u001b[0;34m(\u001b[0m\u001b[0mline\u001b[0m\u001b[0;34m)\u001b[0m\u001b[0;34m\u001b[0m\u001b[0;34m\u001b[0m\u001b[0m\n",
            "\u001b[0;31mNameError\u001b[0m: name 'cities1' is not defined"
          ]
        }
      ]
    },
    {
      "cell_type": "code",
      "source": [],
      "metadata": {
        "id": "-l8vOZE3QoYR"
      },
      "execution_count": 1,
      "outputs": []
    },
    {
      "cell_type": "code",
      "source": [],
      "metadata": {
        "id": "OX-KYogqQodL"
      },
      "execution_count": 1,
      "outputs": []
    },
    {
      "cell_type": "code",
      "source": [],
      "metadata": {
        "id": "9f7SRmV_QojE"
      },
      "execution_count": null,
      "outputs": []
    },
    {
      "cell_type": "code",
      "source": [],
      "metadata": {
        "id": "7NBStq9xQfF2"
      },
      "execution_count": null,
      "outputs": []
    },
    {
      "cell_type": "code",
      "source": [],
      "metadata": {
        "id": "q36sRoiuQfJl"
      },
      "execution_count": null,
      "outputs": []
    }
  ]
}